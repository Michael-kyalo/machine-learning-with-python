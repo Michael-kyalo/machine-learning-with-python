{
 "cells": [
  {
   "cell_type": "code",
   "execution_count": 7,
   "metadata": {},
   "outputs": [],
   "source": [
    "import numbers\n",
    "import numpy as np\n",
    "from sklearn.datasets import load_breast_cancer\n",
    "from sklearn.model_selection import train_test_split\n",
    "from sklearn.neighbors import KNeighborsClassifier\n"
   ]
  },
  {
   "cell_type": "code",
   "execution_count": 8,
   "metadata": {},
   "outputs": [
    {
     "name": "stdout",
     "output_type": "stream",
     "text": [
      "dict_keys(['data', 'target', 'target_names', 'DESCR', 'feature_names', 'filename'])\n"
     ]
    }
   ],
   "source": [
    "#get data and split training and test set\n",
    "cancer = load_breast_cancer()\n",
    "print(cancer.keys())\n",
    "X_train, X_test, y_train, y_test =train_test_split(cancer.data, cancer.target, stratify= cancer.target, random_state = 50)"
   ]
  },
  {
   "cell_type": "code",
   "execution_count": 9,
   "metadata": {},
   "outputs": [],
   "source": [
    "#analyzing the knn\n",
    "training_accuracy =[]\n",
    "testing_accuracy = []\n",
    "neighborhood = range(1,11)\n",
    "\n",
    "for n_neighbors in neighborhood:\n",
    "    knn = KNeighborsClassifier(n_neighbors=n_neighbors)\n",
    "    knn.fit(X_train,y_train)\n",
    "    \n",
    "    #add accuraccy score to list\n",
    "    training_accuracy.append(knn.score(X_train, y_train))\n",
    "    testing_accuracy.append(knn.score(X_test,y_test))\n",
    "\n"
   ]
  },
  {
   "cell_type": "code",
   "execution_count": 10,
   "metadata": {},
   "outputs": [
    {
     "name": "stdout",
     "output_type": "stream",
     "text": [
      "[1.0, 0.9671361502347418, 0.9507042253521126, 0.9436619718309859, 0.9436619718309859, 0.9389671361502347, 0.9366197183098591, 0.9389671361502347, 0.9342723004694836, 0.9342723004694836]\n",
      "[0.9230769230769231, 0.951048951048951, 0.9230769230769231, 0.9370629370629371, 0.9300699300699301, 0.9370629370629371, 0.9370629370629371, 0.9440559440559441, 0.9370629370629371, 0.958041958041958]\n"
     ]
    }
   ],
   "source": [
    "#print final lists\n",
    "print(training_accuracy )\n",
    "\n",
    "print(testing_accuracy)"
   ]
  },
  {
   "cell_type": "code",
   "execution_count": null,
   "metadata": {},
   "outputs": [],
   "source": []
  }
 ],
 "metadata": {
  "kernelspec": {
   "display_name": "Python 3",
   "language": "python",
   "name": "python3"
  },
  "language_info": {
   "codemirror_mode": {
    "name": "ipython",
    "version": 3
   },
   "file_extension": ".py",
   "mimetype": "text/x-python",
   "name": "python",
   "nbconvert_exporter": "python",
   "pygments_lexer": "ipython3",
   "version": "3.7.4"
  }
 },
 "nbformat": 4,
 "nbformat_minor": 2
}
